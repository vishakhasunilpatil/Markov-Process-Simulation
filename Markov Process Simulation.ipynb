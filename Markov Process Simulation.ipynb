{
 "cells": [
  {
   "cell_type": "code",
   "execution_count": 1,
   "id": "73a3c1b1-6ed9-4cd9-926f-d5a3cfdd547d",
   "metadata": {},
   "outputs": [],
   "source": [
    "import numpy as np\n",
    "import matplotlib as plt"
   ]
  },
  {
   "cell_type": "markdown",
   "id": "191581b9-9a29-4fe5-9713-9fca242807e6",
   "metadata": {},
   "source": [
    "## States in a Markov Process"
   ]
  },
  {
   "cell_type": "code",
   "execution_count": 2,
   "id": "e02ed31b-f452-493c-b4a5-54b5f5427415",
   "metadata": {},
   "outputs": [],
   "source": [
    "state = { 0 : \"STATE 1\",\n",
    "          1 : \"STATE 2\", \n",
    "          2 : \"STATE 3\" \n",
    "        } "
   ]
  },
  {
   "cell_type": "code",
   "execution_count": 3,
   "id": "af4cb9ca-105d-4c6f-b355-f0eaf83a2f4d",
   "metadata": {},
   "outputs": [
    {
     "data": {
      "text/plain": [
       "{0: 'STATE 1', 1: 'STATE 2', 2: 'STATE 3'}"
      ]
     },
     "execution_count": 3,
     "metadata": {},
     "output_type": "execute_result"
    }
   ],
   "source": [
    "state"
   ]
  },
  {
   "cell_type": "code",
   "execution_count": 4,
   "id": "f8914453-2f75-4033-ba08-6596af77cdfb",
   "metadata": {},
   "outputs": [],
   "source": [
    "A = np.array([[0.1, 0.4, 0.5], \n",
    "             [0.4, 0.5, 0.1], \n",
    "             [0.1, 0.1, 0.8]] \n",
    "            )"
   ]
  },
  {
   "cell_type": "code",
   "execution_count": 5,
   "id": "c206bc25-1c1e-481d-9c1e-aa8df8273230",
   "metadata": {},
   "outputs": [
    {
     "data": {
      "text/plain": [
       "array([[0.1, 0.4, 0.5],\n",
       "       [0.4, 0.5, 0.1],\n",
       "       [0.1, 0.1, 0.8]])"
      ]
     },
     "execution_count": 5,
     "metadata": {},
     "output_type": "execute_result"
    }
   ],
   "source": [
    "A"
   ]
  },
  {
   "cell_type": "markdown",
   "id": "25465b7e-e407-4a92-bce7-ef29298b008a",
   "metadata": {},
   "source": [
    "## Random Walk on a Markov Chain "
   ]
  },
  {
   "cell_type": "code",
   "execution_count": 6,
   "id": "29c513b7-4ece-4a80-8b22-58a071d1c655",
   "metadata": {},
   "outputs": [
    {
     "name": "stdout",
     "output_type": "stream",
     "text": [
      "STATE 2 ----> STATE 2 ----> STATE 1 ----> STATE 2 ----> STATE 2 ----> STATE 2 ----> STATE 2 ----> STATE 1 ----> STATE 1 ----> STATE 1 ----> STATE 3 ----> STATE 2 ----> "
     ]
    }
   ],
   "source": [
    "n = 12\n",
    "\n",
    "start_state = 1\n",
    "print(state[start_state], \"---->\", end = \" \")\n",
    "previous_state = start_state \n",
    "\n",
    "while n-1:\n",
    "    current_state = np.random.choice([0,1,2], p = A[previous_state])\n",
    "    print(state[current_state], \"---->\", end = \" \")\n",
    "    current_state = previous_state\n",
    "    n = n - 1 "
   ]
  },
  {
   "cell_type": "markdown",
   "id": "7bf2785b-bd2a-498e-ba9d-1268af3063b4",
   "metadata": {},
   "source": [
    "## Simulation : Monte Carlo Method "
   ]
  },
  {
   "cell_type": "code",
   "execution_count": 10,
   "id": "632ea523-1755-46a7-8249-1d0686f4a331",
   "metadata": {},
   "outputs": [
    {
     "name": "stdout",
     "output_type": "stream",
     "text": [
      "The stationary probability distribution is :  [0.176517 0.254447 0.569037]\n"
     ]
    }
   ],
   "source": [
    "steps = 10**6\n",
    "start_state = 1 \n",
    "pi = np.array([0, 0, 0])\n",
    "pi[start_state] = 1\n",
    "previous_state = start_state \n",
    "\n",
    "i = 0\n",
    "\n",
    "while i < steps: \n",
    "    current_state = np.random.choice([0,1,2], p = A[previous_state])\n",
    "    pi[current_state] = pi[current_state] + 1\n",
    "    previous_state = current_state \n",
    "    i = i + 1\n",
    "    \n",
    "print(\"The stationary probability distribution is : \", pi/steps)"
   ]
  },
  {
   "cell_type": "markdown",
   "id": "eb200024-e0a5-4ac4-96fb-bc558742786c",
   "metadata": {},
   "source": [
    "## SImulation : Matrix Multiplication "
   ]
  },
  {
   "cell_type": "code",
   "execution_count": 7,
   "id": "b4580d7f-4a6b-4cb8-8a93-be0662de9bdd",
   "metadata": {},
   "outputs": [
    {
     "name": "stdout",
     "output_type": "stream",
     "text": [
      "[[0.17647059 0.25490196 0.56862745]\n",
      " [0.17647059 0.25490196 0.56862745]\n",
      " [0.17647059 0.25490196 0.56862745]]\n",
      "The sationary probability distribution is:  [0.17647059 0.25490196 0.56862745]\n"
     ]
    }
   ],
   "source": [
    "steps = 10**6\n",
    "\n",
    "A_n = A\n",
    "\n",
    "i = 0\n",
    "while i < steps: \n",
    "    A_n = np.matmul(A_n, A)\n",
    "    i = i + 1\n",
    "\n",
    "print(A_n)\n",
    "print(\"The sationary probability distribution is: \", A_n[0])"
   ]
  }
 ],
 "metadata": {
  "kernelspec": {
   "display_name": "Python 3",
   "language": "python",
   "name": "python3"
  },
  "language_info": {
   "codemirror_mode": {
    "name": "ipython",
    "version": 3
   },
   "file_extension": ".py",
   "mimetype": "text/x-python",
   "name": "python",
   "nbconvert_exporter": "python",
   "pygments_lexer": "ipython3",
   "version": "3.8.8"
  }
 },
 "nbformat": 4,
 "nbformat_minor": 5
}
